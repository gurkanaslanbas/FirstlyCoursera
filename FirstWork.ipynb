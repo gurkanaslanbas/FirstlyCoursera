{
 "cells": [
  {
   "cell_type": "markdown",
   "id": "815f2292-9339-4d2a-bcc5-bc6b19462ac2",
   "metadata": {},
   "source": [
    "#### Data Science Tools and Ecosystem \n"
   ]
  },
  {
   "cell_type": "markdown",
   "id": "63c9ac0d-28ba-476b-a361-cccf90be3f7a",
   "metadata": {},
   "source": [
    "In this notebook, Data Science Tools and Ecosystem are summmarized"
   ]
  },
  {
   "cell_type": "markdown",
   "id": "10f3f8b6-8c7d-4a25-8677-d30b623be314",
   "metadata": {},
   "source": [
    "#### Data Science Language \n",
    "1. Python\r",
    "2. \n",
    "R3. \r\n",
    "SQ4. L\r\n",
    "Jul5. ia\r\n",
    "Sc6. ala\r\n",
    "7. Java\r\n",
    "\n",
    "8. C++\n",
    "9. JavaScript\n",
    "10. php\n",
    "11. Go\n",
    "12. Visual BasicMATLAB"
   ]
  },
  {
   "cell_type": "markdown",
   "id": "53ec7b5b-2364-4cee-85dd-298983584d6e",
   "metadata": {},
   "source": [
    "#### Data Science Librarys ###\n",
    "1. NumPy\r\n",
    "2. pandas\r\n",
    "3. scikit-learn\r\n",
    "4. TensorFlow\r\n",
    "5. Keras\r\n",
    "6. Matplotlib\r\n",
    "7. Seaborn\r\n",
    "8. Plotly\r\n",
    "9. Statsmodels\r\n",
    "10. SciPy\r\n",
    "11. NLTK\r\n",
    "12. spaCy\r\n",
    "13. PyTorch\r\n",
    "14. H2O.ai\r\n",
    "15. Dask\r\n",
    "16. PySparkPySpark"
   ]
  },
  {
   "cell_type": "markdown",
   "id": "2a3342c5-2976-4c24-814c-e9477bb22640",
   "metadata": {},
   "source": [
    "| Data Science Tools |\r\n",
    "|--------------------|\r\n",
    "| Anaconda           |\r\n",
    "| Jupyter Notebooks  |\r\n",
    "| RStudio            |\r\n",
    "| Spyder             |\r\n",
    "| Zeppelin           |\r\n",
    "\r\n",
    "15. Alteryx"
   ]
  },
  {
   "cell_type": "markdown",
   "id": "69687ab5-5ad6-4610-a500-cd8fbb46f086",
   "metadata": {},
   "source": [
    "###### Arithmetic tools  below are a few example evaluating aritmatic exp.\n",
    "( + - * /)"
   ]
  },
  {
   "cell_type": "code",
   "execution_count": 1,
   "id": "0b24db2d-7ac2-42e9-88af-b60c7027652d",
   "metadata": {},
   "outputs": [
    {
     "data": {
      "text/plain": [
       "17"
      ]
     },
     "execution_count": 1,
     "metadata": {},
     "output_type": "execute_result"
    }
   ],
   "source": [
    "#Simple Aritmatic Exp.\n",
    "(3*4)+5"
   ]
  },
  {
   "cell_type": "code",
   "execution_count": 2,
   "id": "1dd4b7ef-3493-4b3f-b1a8-f7e3c9f6108a",
   "metadata": {},
   "outputs": [
    {
     "data": {
      "text/plain": [
       "5.0"
      ]
     },
     "execution_count": 2,
     "metadata": {},
     "output_type": "execute_result"
    }
   ],
   "source": [
    "#This will convert 300 min to hours\n",
    "300/60"
   ]
  },
  {
   "cell_type": "markdown",
   "id": "dc720bbb-2a0a-4ac2-b1d5-61da079031ef",
   "metadata": {},
   "source": [
    "##### Aim List: ####\n",
    "* aim1\n",
    "* aim2\n",
    "* aim3\n",
    "* aim4"
   ]
  },
  {
   "cell_type": "markdown",
   "id": "6a3ff33d-db55-4473-8152-3149723d9842",
   "metadata": {},
   "source": [
    "##  Author's name: \n",
    "Lakshmi Hola   \n",
    "Nivedtha Pandit   "
   ]
  },
  {
   "cell_type": "code",
   "execution_count": null,
   "id": "74b81a71-22bb-48e7-bf0b-3f11cb2977ca",
   "metadata": {},
   "outputs": [],
   "source": []
  }
 ],
 "metadata": {
  "kernelspec": {
   "display_name": "Python 3 (ipykernel)",
   "language": "python",
   "name": "python3"
  },
  "language_info": {
   "codemirror_mode": {
    "name": "ipython",
    "version": 3
   },
   "file_extension": ".py",
   "mimetype": "text/x-python",
   "name": "python",
   "nbconvert_exporter": "python",
   "pygments_lexer": "ipython3",
   "version": "3.11.9"
  }
 },
 "nbformat": 4,
 "nbformat_minor": 5
}
