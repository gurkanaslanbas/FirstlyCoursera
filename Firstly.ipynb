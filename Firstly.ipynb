{
 "cells": [
  {
   "cell_type": "markdown",
   "id": "815f2292-9339-4d2a-bcc5-bc6b19462ac2",
   "metadata": {},
   "source": [
    "##### NoteBook Title (Gürkan Aslanbaş) Coursera\n"
   ]
  },
  {
   "cell_type": "markdown",
   "id": "63c9ac0d-28ba-476b-a361-cccf90be3f7a",
   "metadata": {},
   "source": [
    "##### introduction to data science"
   ]
  },
  {
   "cell_type": "markdown",
   "id": "10f3f8b6-8c7d-4a25-8677-d30b623be314",
   "metadata": {},
   "source": [
    "##### Data Science Language##\n",
    "Python\r\n",
    "R\r\n",
    "SQL\r\n",
    "Julia\r\n",
    "Scala\r\n",
    "Java\r\n",
    "MATLAB"
   ]
  },
  {
   "cell_type": "markdown",
   "id": "53ec7b5b-2364-4cee-85dd-298983584d6e",
   "metadata": {},
   "source": [
    "#### Data Science Librarys ###\n",
    "NumPy, panda,3. scikit-lear,T\n",
    "4. Tenso,w\r\n",
    "5.,as\r\n",
    "6. Matplib\r\n",
    "7.,born\r\n",
    ",lotly\r\n",
    "9. S,odels, Sci,1. NL,2. spaC,. PyTo,14. ,i\r\n",
    "15. Dask\r\n",
    "16. PySpark"
   ]
  },
  {
   "cell_type": "markdown",
   "id": "2a3342c5-2976-4c24-814c-e9477bb22640",
   "metadata": {},
   "source": [
    "### Data Science Tools ###\n",
    "Jupyter Notebook \n",
    "2. RStudi \r\n",
    "3. Apache Hado p\r\n",
    "4. Apache Sp rk\r\n",
    "5. Tab eau\r\n",
    "6. PoweI\r\n",
    "7. Google Data  tudio\r\n",
    "8  KNIME\r\n",
    "9. Ra idMiner\r\n",
    "10.  ataRobot\r\n",
    "11. Microsoft Azure Machin  Learning\r\n",
    "12. Amazo  SageMaker\r\n",
    "13. IBM W\n",
    " Studio\r\n",
    "1 . Databricks\r\n",
    "15. Alteryx"
   ]
  },
  {
   "cell_type": "markdown",
   "id": "69687ab5-5ad6-4610-a500-cd8fbb46f086",
   "metadata": {},
   "source": [
    "#### Arithmetic tools \n",
    "( + - * /)"
   ]
  },
  {
   "cell_type": "code",
   "execution_count": 8,
   "id": "0b24db2d-7ac2-42e9-88af-b60c7027652d",
   "metadata": {},
   "outputs": [
    {
     "name": "stdout",
     "output_type": "stream",
     "text": [
      "30\n",
      "11\n"
     ]
    }
   ],
   "source": [
    "x=5\n",
    "y=6\n",
    "z=x*y\n",
    "d=x+y\n",
    "print(z)\n",
    "print(d)"
   ]
  },
  {
   "cell_type": "code",
   "execution_count": 2,
   "id": "1dd4b7ef-3493-4b3f-b1a8-f7e3c9f6108a",
   "metadata": {},
   "outputs": [
    {
     "name": "stdout",
     "output_type": "stream",
     "text": [
      "2.5\n"
     ]
    }
   ],
   "source": [
    "dakika = 150\n",
    "saat= 150/ 60\n",
    "print(saat)\n"
   ]
  },
  {
   "cell_type": "markdown",
   "id": "dc720bbb-2a0a-4ac2-b1d5-61da079031ef",
   "metadata": {},
   "source": [
    "#### Aim Lists ####\n",
    "|aim1|DS1|\n",
    "|aim2|DS2|"
   ]
  },
  {
   "cell_type": "markdown",
   "id": "6a3ff33d-db55-4473-8152-3149723d9842",
   "metadata": {},
   "source": [
    "####  Author's name ####\n",
    "grknaslanbas"
   ]
  },
  {
   "cell_type": "code",
   "execution_count": 3,
   "id": "3e6c06a2-8df5-4bd5-9654-d16b7c6316b1",
   "metadata": {},
   "outputs": [
    {
     "name": "stdout",
     "output_type": "stream",
     "text": [
      "48 11\n"
     ]
    }
   ],
   "source": [
    "x=max(3,7,25,48)\n",
    "y=min(88,66,95,11)\n",
    "print(x,y)"
   ]
  },
  {
   "cell_type": "code",
   "execution_count": 4,
   "id": "f0cc3ad6-7784-404b-a5eb-72281b66d4bf",
   "metadata": {},
   "outputs": [
    {
     "name": "stdout",
     "output_type": "stream",
     "text": [
      "64\n"
     ]
    }
   ],
   "source": [
    "x=pow(2,6)\n",
    "print(x)\n"
   ]
  }
 ],
 "metadata": {
  "kernelspec": {
   "display_name": "Python 3 (ipykernel)",
   "language": "python",
   "name": "python3"
  },
  "language_info": {
   "codemirror_mode": {
    "name": "ipython",
    "version": 3
   },
   "file_extension": ".py",
   "mimetype": "text/x-python",
   "name": "python",
   "nbconvert_exporter": "python",
   "pygments_lexer": "ipython3",
   "version": "3.11.9"
  }
 },
 "nbformat": 4,
 "nbformat_minor": 5
}
